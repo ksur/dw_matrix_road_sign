{
  "nbformat": 4,
  "nbformat_minor": 0,
  "metadata": {
    "colab": {
      "name": "day5.ipynb",
      "provenance": [],
      "mount_file_id": "10WFe2Znm3yyriplInNUjNhOimclsscJP",
      "authorship_tag": "ABX9TyPSW3B8jD18IDWMJoX+p4Lr",
      "include_colab_link": true
    },
    "kernelspec": {
      "name": "python3",
      "display_name": "Python 3"
    },
    "accelerator": "GPU"
  },
  "cells": [
    {
      "cell_type": "markdown",
      "metadata": {
        "id": "view-in-github",
        "colab_type": "text"
      },
      "source": [
        "<a href=\"https://colab.research.google.com/github/ksur/dw_matrix_road_sign/blob/master/day5.ipynb\" target=\"_parent\"><img src=\"https://colab.research.google.com/assets/colab-badge.svg\" alt=\"Open In Colab\"/></a>"
      ]
    },
    {
      "cell_type": "code",
      "metadata": {
        "id": "idJkGadAdq7T",
        "colab_type": "code",
        "outputId": "c7a48e9f-ee37-4d29-8527-4445b1743324",
        "colab": {
          "base_uri": "https://localhost:8080/",
          "height": 170
        }
      },
      "source": [
        "!pip install hyperopt"
      ],
      "execution_count": 0,
      "outputs": [
        {
          "output_type": "stream",
          "text": [
            "Requirement already satisfied: hyperopt in /usr/local/lib/python3.6/dist-packages (0.1.2)\n",
            "Requirement already satisfied: six in /usr/local/lib/python3.6/dist-packages (from hyperopt) (1.12.0)\n",
            "Requirement already satisfied: numpy in /usr/local/lib/python3.6/dist-packages (from hyperopt) (1.18.2)\n",
            "Requirement already satisfied: future in /usr/local/lib/python3.6/dist-packages (from hyperopt) (0.16.0)\n",
            "Requirement already satisfied: networkx in /usr/local/lib/python3.6/dist-packages (from hyperopt) (2.4)\n",
            "Requirement already satisfied: scipy in /usr/local/lib/python3.6/dist-packages (from hyperopt) (1.4.1)\n",
            "Requirement already satisfied: tqdm in /usr/local/lib/python3.6/dist-packages (from hyperopt) (4.38.0)\n",
            "Requirement already satisfied: pymongo in /usr/local/lib/python3.6/dist-packages (from hyperopt) (3.10.1)\n",
            "Requirement already satisfied: decorator>=4.3.0 in /usr/local/lib/python3.6/dist-packages (from networkx->hyperopt) (4.4.2)\n"
          ],
          "name": "stdout"
        }
      ]
    },
    {
      "cell_type": "code",
      "metadata": {
        "id": "anxdqOhEeCOS",
        "colab_type": "code",
        "colab": {}
      },
      "source": [
        "import pandas as pd\n",
        "import numpy as np\n",
        "import os\n",
        "import datetime\n",
        "\n",
        "import tensorflow as tf\n",
        "from tensorflow.keras.models import Sequential\n",
        "from tensorflow.keras.layers import Conv2D, MaxPool2D, Dense, Flatten, Dropout\n",
        "from tensorflow.keras.utils import to_categorical\n",
        "\n",
        "import matplotlib.pyplot as plt\n",
        "from skimage import color, exposure\n",
        "\n",
        "from sklearn.metrics import accuracy_score\n",
        "\n",
        "from hyperopt import hp, STATUS_OK, tpe, Trials, fmin\n",
        "\n",
        "\n",
        "%load_ext tensorboard"
      ],
      "execution_count": 0,
      "outputs": []
    },
    {
      "cell_type": "code",
      "metadata": {
        "id": "5JBOLmLCeRnl",
        "colab_type": "code",
        "outputId": "991c694c-3800-4ced-97d4-ca30c16fba39",
        "colab": {
          "base_uri": "https://localhost:8080/",
          "height": 34
        }
      },
      "source": [
        "cd '/content/drive/My Drive/Colab Notebooks/matrix/matrix_three/dw_matrix_road_sign'"
      ],
      "execution_count": 0,
      "outputs": [
        {
          "output_type": "stream",
          "text": [
            "/content/drive/My Drive/Colab Notebooks/matrix/matrix_three/dw_matrix_road_sign\n"
          ],
          "name": "stdout"
        }
      ]
    },
    {
      "cell_type": "code",
      "metadata": {
        "id": "vXFR8NGyeg8l",
        "colab_type": "code",
        "colab": {}
      },
      "source": [
        "train = pd.read_pickle('data/train.p')\n",
        "test = pd.read_pickle('data/test.p')\n",
        "\n",
        "X_train, y_train = train['features'], train['labels']\n",
        "X_test, y_test = test['features'], test['labels']"
      ],
      "execution_count": 0,
      "outputs": []
    },
    {
      "cell_type": "code",
      "metadata": {
        "id": "AeZkIhF6el3o",
        "colab_type": "code",
        "colab": {}
      },
      "source": [
        "if y_train.ndim == 1: y_train = to_categorical(y_train)\n",
        "if y_test.ndim == 1: y_test = to_categorical(y_test)"
      ],
      "execution_count": 0,
      "outputs": []
    },
    {
      "cell_type": "code",
      "metadata": {
        "id": "p32jfPm5eynn",
        "colab_type": "code",
        "colab": {}
      },
      "source": [
        "input_shape = X_train.shape[1:]\n",
        "num_classes = y_train.shape[1]"
      ],
      "execution_count": 0,
      "outputs": []
    },
    {
      "cell_type": "code",
      "metadata": {
        "id": "TR9Ip-L8e3PC",
        "colab_type": "code",
        "colab": {}
      },
      "source": [
        "def train_model(model, X_train, y_train, params_fit={}):\n",
        "  model.compile(loss='categorical_crossentropy', optimizer='Adam', metrics=['accuracy'])\n",
        "\n",
        "  logdir = os.path.join(\"logs\", datetime.datetime.now().strftime(\"%Y%m%d-%H%M%S\"))\n",
        "  tensorboard_callback = tf.keras.callbacks.TensorBoard(logdir, histogram_freq=1)\n",
        "\n",
        "  model.fit(X_train, \n",
        "            y_train,\n",
        "            batch_size=params_fit.get('batch_size', 128),\n",
        "            epochs=params_fit.get('epochs', 5),\n",
        "            verboses=params_fit.get('verbose', 1),\n",
        "            validation_data=params_fit.get('validation_data', (X_train, y_train)),\n",
        "            callbacks=[tensorboard_callback]\n",
        "            )\n",
        "  \n",
        "  return model"
      ],
      "execution_count": 0,
      "outputs": []
    },
    {
      "cell_type": "code",
      "metadata": {
        "id": "CxmQsUKGe_RR",
        "colab_type": "code",
        "colab": {}
      },
      "source": [
        "def predict(model_trained, X_test, y_test, scoring=accuracy_score):\n",
        "\n",
        "  y_test_norm = np.argmax(y_test, axis=1)\n",
        "\n",
        "  y_pred_prob = model_trained.predict(X_test)\n",
        "  y_pred = np.argmax(y_pred_prob, axis=1)\n",
        "\n",
        "  return scoring(y_test_norm, y_pred)"
      ],
      "execution_count": 0,
      "outputs": []
    },
    {
      "cell_type": "code",
      "metadata": {
        "id": "NjIjP1wYfHtN",
        "colab_type": "code",
        "colab": {}
      },
      "source": [
        "def get_cnn_v5(input_shape, num_classes):\n",
        "  return Sequential([\n",
        "                    Conv2D(filters=32, kernel_size=(3,3), activation='relu', input_shape=input_shape),\n",
        "                    Conv2D(filters=32, kernel_size=(3,3), activation='relu', padding=\"same\"),\n",
        "                    MaxPool2D(),\n",
        "                    Dropout(0.3),\n",
        "                    \n",
        "                    Conv2D(filters=64, kernel_size=(3,3), activation='relu', padding=\"same\"),\n",
        "                    Conv2D(filters=64, kernel_size=(3,3), activation='relu'), \n",
        "                    MaxPool2D(),\n",
        "                    Dropout(0.3),\n",
        "                     \n",
        "                    Conv2D(filters=64, kernel_size=(3,3), activation='relu', padding=\"same\"),\n",
        "                    Conv2D(filters=64, kernel_size=(3,3), activation='relu'), \n",
        "                    MaxPool2D(),\n",
        "                    Dropout(0.3),\n",
        "                    \n",
        "                    Flatten(),\n",
        "                    \n",
        "                    Dense(1024, activation=\"relu\"),\n",
        "                    Dropout(0.3),\n",
        "\n",
        "                    Dense(1024, activation=\"relu\"),\n",
        "                    Dropout(0.3),\n",
        "\n",
        "                    Dense(num_classes, activation='softmax'),\n",
        "                    ])"
      ],
      "execution_count": 0,
      "outputs": []
    },
    {
      "cell_type": "code",
      "metadata": {
        "id": "Xv4vFe-pfi_h",
        "colab_type": "code",
        "outputId": "e5be9a58-94cc-4a88-819d-c092d621dc46",
        "colab": {
          "base_uri": "https://localhost:8080/",
          "height": 204
        }
      },
      "source": [
        "model = get_cnn_v5(input_shape, num_classes)\n",
        "model_trained = train_model(model, X_train, y_train)\n",
        "\n",
        "predict(model_trained, X_test, y_test)"
      ],
      "execution_count": 0,
      "outputs": [
        {
          "output_type": "stream",
          "text": [
            "Epoch 1/5\n",
            "272/272 [==============================] - 13s 47ms/step - loss: 2.7164 - accuracy: 0.2707 - val_loss: 1.1377 - val_accuracy: 0.6464\n",
            "Epoch 2/5\n",
            "272/272 [==============================] - 12s 45ms/step - loss: 1.0536 - accuracy: 0.6625 - val_loss: 0.3929 - val_accuracy: 0.8863\n",
            "Epoch 3/5\n",
            "272/272 [==============================] - 12s 45ms/step - loss: 0.5542 - accuracy: 0.8263 - val_loss: 0.1718 - val_accuracy: 0.9447\n",
            "Epoch 4/5\n",
            "272/272 [==============================] - 12s 45ms/step - loss: 0.3633 - accuracy: 0.8886 - val_loss: 0.1166 - val_accuracy: 0.9645\n",
            "Epoch 5/5\n",
            "272/272 [==============================] - 12s 45ms/step - loss: 0.2595 - accuracy: 0.9189 - val_loss: 0.0535 - val_accuracy: 0.9847\n"
          ],
          "name": "stdout"
        },
        {
          "output_type": "execute_result",
          "data": {
            "text/plain": [
              "0.9532879818594104"
            ]
          },
          "metadata": {
            "tags": []
          },
          "execution_count": 10
        }
      ]
    },
    {
      "cell_type": "code",
      "metadata": {
        "id": "157n86c_izLR",
        "colab_type": "code",
        "colab": {}
      },
      "source": [
        "def get_model(params):\n",
        "  return Sequential([\n",
        "                    Conv2D(filters=32, kernel_size=(3,3), activation='relu', input_shape=input_shape),\n",
        "                    Conv2D(filters=32, kernel_size=(3,3), activation='relu', padding=\"same\"),\n",
        "                    MaxPool2D(),\n",
        "                    Dropout(params['dropout_cnn_block_one']),\n",
        "                    \n",
        "                    Conv2D(filters=64, kernel_size=(3,3), activation='relu', padding=\"same\"),\n",
        "                    Conv2D(filters=64, kernel_size=(3,3), activation='relu'), \n",
        "                    MaxPool2D(),\n",
        "                    Dropout(params['dropout_cnn_block_two']),\n",
        "                     \n",
        "                    Conv2D(filters=128, kernel_size=(3,3), activation='relu', padding=\"same\"),\n",
        "                    Conv2D(filters=128, kernel_size=(3,3), activation='relu'), \n",
        "                    MaxPool2D(),\n",
        "                    Dropout(params['dropout_cnn_block_three']),\n",
        "                    \n",
        "                    Flatten(),\n",
        "                    \n",
        "                    Dense(1024, activation=\"relu\"),\n",
        "                    Dropout(params['dropout_dense_block_one']),\n",
        "\n",
        "                    Dense(1024, activation=\"relu\"),\n",
        "                    Dropout(params['dropout_dense_block_two']),\n",
        "\n",
        "                    Dense(num_classes, activation='softmax'),\n",
        "                    ])"
      ],
      "execution_count": 0,
      "outputs": []
    },
    {
      "cell_type": "code",
      "metadata": {
        "id": "gPTYadDnhgtx",
        "colab_type": "code",
        "outputId": "ccacd978-d380-4e47-87e9-099da2072418",
        "colab": {
          "base_uri": "https://localhost:8080/",
          "height": 51
        }
      },
      "source": [
        "model_trained.evaluate(X_test, y_test)[1]"
      ],
      "execution_count": 0,
      "outputs": [
        {
          "output_type": "stream",
          "text": [
            "138/138 [==============================] - 1s 6ms/step - loss: 0.2242 - accuracy: 0.9533\n"
          ],
          "name": "stdout"
        },
        {
          "output_type": "execute_result",
          "data": {
            "text/plain": [
              "0.9532879590988159"
            ]
          },
          "metadata": {
            "tags": []
          },
          "execution_count": 12
        }
      ]
    },
    {
      "cell_type": "code",
      "metadata": {
        "id": "timQ6bb5f_a2",
        "colab_type": "code",
        "colab": {}
      },
      "source": [
        "def func_obj(params):\n",
        "\n",
        "  model = get_model(params)\n",
        "\n",
        "  model.compile(loss='categorical_crossentropy', optimizer='Adam', metrics=['accuracy'])\n",
        "\n",
        "  model.fit(\n",
        "            X_train, \n",
        "            y_train,\n",
        "            batch_size=int(params.get('batch_size', 128)),\n",
        "            epochs=5,\n",
        "            verbose=0\n",
        "            )\n",
        "  \n",
        "  score = model.evaluate(X_test, y_test, verbose=0)\n",
        "  accuracy = score[1]\n",
        "  print(params, 'accuracy={}'.format(accuracy))\n",
        "\n",
        "  return {'loss' : -accuracy, 'status' : STATUS_OK, 'model' : model}"
      ],
      "execution_count": 0,
      "outputs": []
    },
    {
      "cell_type": "code",
      "metadata": {
        "id": "X2nPfFDLh9z0",
        "colab_type": "code",
        "outputId": "f98e1ae0-8b33-467b-ef97-8b69bbec5006",
        "colab": {
          "base_uri": "https://localhost:8080/",
          "height": 1000
        }
      },
      "source": [
        "space = {\n",
        "    'batch_size' : hp.quniform('batch_size', 100, 200, 10),\n",
        "    'dropout_cnn_block_one' : hp.uniform('dropout_cnn_block_one', 0.3, 0.5),\n",
        "    'dropout_cnn_block_two' : hp.uniform('dropout_cnn_block_two', 0.3, 0.5),\n",
        "    'dropout_cnn_block_three' : hp.uniform('dropout_cnn_block_three', 0.3, 0.5),\n",
        "\n",
        "    'dropout_dense_block_one' : hp.uniform('dropout_dense_block_one', 0.3, 0.7),\n",
        "    'dropout_dense_block_two' : hp.uniform('dropout_dense_block_two', 0.3, 0.7)\n",
        "\n",
        "}\n",
        "\n",
        "best = fmin(\n",
        "    func_obj,\n",
        "    space,\n",
        "    tpe.suggest,\n",
        "    30,\n",
        "    Trials()\n",
        ")"
      ],
      "execution_count": 0,
      "outputs": [
        {
          "output_type": "stream",
          "text": [
            "{'batch_size': 200.0, 'dropout_cnn_block_one': 0.34269194761577076, 'dropout_cnn_block_three': 0.43366186925043015, 'dropout_cnn_block_two': 0.4823585769959734, 'dropout_dense_block_one': 0.5905096900441498, 'dropout_dense_block_two': 0.3544239061345807}\n",
            "accuracy=0.8108843564987183\n",
            "{'batch_size': 150.0, 'dropout_cnn_block_one': 0.48245813717745956, 'dropout_cnn_block_three': 0.33258569355781353, 'dropout_cnn_block_two': 0.3914101055161462, 'dropout_dense_block_one': 0.4152178810481618, 'dropout_dense_block_two': 0.3998794233451703}\n",
            "accuracy=0.9054421782493591\n",
            "{'batch_size': 140.0, 'dropout_cnn_block_one': 0.3718101507669438, 'dropout_cnn_block_three': 0.4566959937864456, 'dropout_cnn_block_two': 0.49025983952915353, 'dropout_dense_block_one': 0.469079789504121, 'dropout_dense_block_two': 0.4990311037779632}\n",
            "accuracy=0.9276643991470337\n",
            "{'batch_size': 130.0, 'dropout_cnn_block_one': 0.4834533903685571, 'dropout_cnn_block_three': 0.4764454008506492, 'dropout_cnn_block_two': 0.4993840645674314, 'dropout_dense_block_one': 0.40315544064858444, 'dropout_dense_block_two': 0.5582459872174605}\n",
            "accuracy=0.8870748281478882\n",
            "{'batch_size': 160.0, 'dropout_cnn_block_one': 0.32949309068188065, 'dropout_cnn_block_three': 0.45699217646982326, 'dropout_cnn_block_two': 0.32542930597866454, 'dropout_dense_block_one': 0.647059828434158, 'dropout_dense_block_two': 0.678469427727186}\n",
            "accuracy=0.8841269612312317\n",
            "{'batch_size': 140.0, 'dropout_cnn_block_one': 0.40057447163847393, 'dropout_cnn_block_three': 0.44916988071727415, 'dropout_cnn_block_two': 0.46486849588293816, 'dropout_dense_block_one': 0.6273882472995544, 'dropout_dense_block_two': 0.6821641313667453}\n",
            "accuracy=0.704081654548645\n",
            "{'batch_size': 200.0, 'dropout_cnn_block_one': 0.4438546551238244, 'dropout_cnn_block_three': 0.4257673207504913, 'dropout_cnn_block_two': 0.4440931393165902, 'dropout_dense_block_one': 0.595770165776943, 'dropout_dense_block_two': 0.5267308020375465}\n",
            "accuracy=0.7251700758934021\n",
            "{'batch_size': 140.0, 'dropout_cnn_block_one': 0.4033024967147398, 'dropout_cnn_block_three': 0.48562189414494245, 'dropout_cnn_block_two': 0.3157061816440171, 'dropout_dense_block_one': 0.6502338772939121, 'dropout_dense_block_two': 0.4614205047024082}\n",
            "accuracy=0.8834466934204102\n",
            "{'batch_size': 170.0, 'dropout_cnn_block_one': 0.31147798847411756, 'dropout_cnn_block_three': 0.3438727666744854, 'dropout_cnn_block_two': 0.3501472844074838, 'dropout_dense_block_one': 0.40710550207580665, 'dropout_dense_block_two': 0.6051450555611904}\n",
            "accuracy=0.9424036145210266\n",
            "{'batch_size': 150.0, 'dropout_cnn_block_one': 0.3749758155505898, 'dropout_cnn_block_three': 0.34512265576526957, 'dropout_cnn_block_two': 0.4050072694096751, 'dropout_dense_block_one': 0.5309470545171157, 'dropout_dense_block_two': 0.5710765159654629}\n",
            "accuracy=0.9455782175064087\n",
            "{'batch_size': 150.0, 'dropout_cnn_block_one': 0.4873375994285818, 'dropout_cnn_block_three': 0.3503602399767161, 'dropout_cnn_block_two': 0.4995141735487353, 'dropout_dense_block_one': 0.48163754190657954, 'dropout_dense_block_two': 0.43695403132362753}\n",
            "accuracy=0.9120181202888489\n",
            "{'batch_size': 150.0, 'dropout_cnn_block_one': 0.31758587583483006, 'dropout_cnn_block_three': 0.424700586321263, 'dropout_cnn_block_two': 0.4759000004694508, 'dropout_dense_block_one': 0.589354964407462, 'dropout_dense_block_two': 0.5242956662781517}\n",
            "accuracy=0.9138321876525879\n",
            "{'batch_size': 100.0, 'dropout_cnn_block_one': 0.48607878702838186, 'dropout_cnn_block_three': 0.35740792505489694, 'dropout_cnn_block_two': 0.47016573129731165, 'dropout_dense_block_one': 0.6189954793470405, 'dropout_dense_block_two': 0.6275351317979534}\n",
            "accuracy=0.9058957099914551\n",
            "{'batch_size': 160.0, 'dropout_cnn_block_one': 0.4787322541522969, 'dropout_cnn_block_three': 0.3137438530661791, 'dropout_cnn_block_two': 0.3538983089570675, 'dropout_dense_block_one': 0.35903663217855275, 'dropout_dense_block_two': 0.6354193164130512}\n",
            "accuracy=0.9412698149681091\n",
            "{'batch_size': 190.0, 'dropout_cnn_block_one': 0.4196171924001188, 'dropout_cnn_block_three': 0.43236794587564475, 'dropout_cnn_block_two': 0.49844483630687286, 'dropout_dense_block_one': 0.504983400760121, 'dropout_dense_block_two': 0.6513392560269972}\n",
            "accuracy=0.8403627872467041\n",
            "{'batch_size': 160.0, 'dropout_cnn_block_one': 0.4322916115777716, 'dropout_cnn_block_three': 0.3459521759417541, 'dropout_cnn_block_two': 0.33078898214289054, 'dropout_dense_block_one': 0.4218017706863347, 'dropout_dense_block_two': 0.3087917743009317}\n",
            "accuracy=0.9469387531280518\n",
            "{'batch_size': 190.0, 'dropout_cnn_block_one': 0.37387981346491633, 'dropout_cnn_block_three': 0.45345756738258325, 'dropout_cnn_block_two': 0.38810985572915174, 'dropout_dense_block_one': 0.6370767094068894, 'dropout_dense_block_two': 0.514241266520793}\n",
            "accuracy=0.7693877816200256\n",
            "{'batch_size': 120.0, 'dropout_cnn_block_one': 0.4059366832400992, 'dropout_cnn_block_three': 0.3212487489967304, 'dropout_cnn_block_two': 0.3525679356851109, 'dropout_dense_block_one': 0.37727139797900444, 'dropout_dense_block_two': 0.6870231388998222}\n",
            "accuracy=0.9666666388511658\n",
            "{'batch_size': 200.0, 'dropout_cnn_block_one': 0.44123250497661715, 'dropout_cnn_block_three': 0.41092846389768484, 'dropout_cnn_block_two': 0.422576381833906, 'dropout_dense_block_one': 0.6816792021592305, 'dropout_dense_block_two': 0.5346254159143152}\n",
            "accuracy=0.9111111164093018\n",
            "{'batch_size': 110.0, 'dropout_cnn_block_one': 0.3845440419292173, 'dropout_cnn_block_three': 0.43832814828736133, 'dropout_cnn_block_two': 0.4582742447941505, 'dropout_dense_block_one': 0.534095731359423, 'dropout_dense_block_two': 0.6335203441366135}\n",
            "accuracy=0.8866212964057922\n",
            "{'batch_size': 120.0, 'dropout_cnn_block_one': 0.4494667487029237, 'dropout_cnn_block_three': 0.3877245924658095, 'dropout_cnn_block_two': 0.35707217661853713, 'dropout_dense_block_one': 0.36668651940902264, 'dropout_dense_block_two': 0.31473831788315754}\n",
            "accuracy=0.9578231573104858\n",
            "{'batch_size': 120.0, 'dropout_cnn_block_one': 0.4634879764533459, 'dropout_cnn_block_three': 0.3798991587023709, 'dropout_cnn_block_two': 0.36526036180127724, 'dropout_dense_block_one': 0.3412437258779519, 'dropout_dense_block_two': 0.3044813824127416}\n",
            "accuracy=0.9562358260154724\n",
            "{'batch_size': 100.0, 'dropout_cnn_block_one': 0.4606437299370173, 'dropout_cnn_block_three': 0.30406147626033814, 'dropout_cnn_block_two': 0.30371975583113375, 'dropout_dense_block_one': 0.33018466044417044, 'dropout_dense_block_two': 0.3629336986143248}\n",
            "accuracy=0.9442176818847656\n",
            "{'batch_size': 120.0, 'dropout_cnn_block_one': 0.4168093881677997, 'dropout_cnn_block_three': 0.38417086447873855, 'dropout_cnn_block_two': 0.37451052921237515, 'dropout_dense_block_one': 0.3106094020585498, 'dropout_dense_block_two': 0.4721725001087139}\n",
            "accuracy=0.9412698149681091\n",
            "{'batch_size': 110.0, 'dropout_cnn_block_one': 0.35717027264515167, 'dropout_cnn_block_three': 0.37358529154253817, 'dropout_cnn_block_two': 0.339292724182508, 'dropout_dense_block_one': 0.36933555968669207, 'dropout_dense_block_two': 0.4107211950278669}\n",
            "accuracy=0.9668934345245361\n",
            "{'batch_size': 110.0, 'dropout_cnn_block_one': 0.35356989971444924, 'dropout_cnn_block_three': 0.3222553332394327, 'dropout_cnn_block_two': 0.3387634648361987, 'dropout_dense_block_one': 0.44076025709622424, 'dropout_dense_block_two': 0.4109176702456485}\n",
            "accuracy=0.9650793671607971\n",
            "{'batch_size': 110.0, 'dropout_cnn_block_one': 0.35515834622534, 'dropout_cnn_block_three': 0.3633122669659793, 'dropout_cnn_block_two': 0.302645895149256, 'dropout_dense_block_one': 0.3098078515998637, 'dropout_dense_block_two': 0.37036910761468467}\n",
            "accuracy=0.9634920358657837\n",
            "{'batch_size': 130.0, 'dropout_cnn_block_one': 0.38985583976544225, 'dropout_cnn_block_three': 0.3001701744393101, 'dropout_cnn_block_two': 0.37707291532846104, 'dropout_dense_block_one': 0.37885688434158415, 'dropout_dense_block_two': 0.40600880073327766}\n",
            "accuracy=0.9646258354187012\n",
            "{'batch_size': 100.0, 'dropout_cnn_block_one': 0.3385633225369056, 'dropout_cnn_block_three': 0.4029631649916131, 'dropout_cnn_block_two': 0.41013702008948544, 'dropout_dense_block_one': 0.45230400653963515, 'dropout_dense_block_two': 0.3434103056367513}\n",
            "accuracy=0.9489796161651611\n",
            "{'batch_size': 130.0, 'dropout_cnn_block_one': 0.353436246968768, 'dropout_cnn_block_three': 0.36759085247474055, 'dropout_cnn_block_two': 0.31955525750612923, 'dropout_dense_block_one': 0.39033024662866544, 'dropout_dense_block_two': 0.4446203814039474}\n",
            "accuracy=0.9548752903938293\n",
            "100%|██████████| 30/30 [22:42<00:00, 45.43s/it, best loss: -0.9668934345245361]\n"
          ],
          "name": "stdout"
        }
      ]
    },
    {
      "cell_type": "code",
      "metadata": {
        "id": "TNA5iDh_m5ZZ",
        "colab_type": "code",
        "colab": {}
      },
      "source": [
        ""
      ],
      "execution_count": 0,
      "outputs": []
    }
  ]
}