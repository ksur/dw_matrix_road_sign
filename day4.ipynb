{
  "nbformat": 4,
  "nbformat_minor": 0,
  "metadata": {
    "colab": {
      "name": "day4.ipynb",
      "provenance": [],
      "mount_file_id": "1gw9HVXR82T6vOJtuSvQdIftEeNvM7XA6",
      "authorship_tag": "ABX9TyMbJA3JiroZ0xzgT5j9QegV",
      "include_colab_link": true
    },
    "kernelspec": {
      "name": "python3",
      "display_name": "Python 3"
    },
    "accelerator": "GPU"
  },
  "cells": [
    {
      "cell_type": "markdown",
      "metadata": {
        "id": "view-in-github",
        "colab_type": "text"
      },
      "source": [
        "<a href=\"https://colab.research.google.com/github/ksur/dw_matrix_road_sign/blob/master/day4.ipynb\" target=\"_parent\"><img src=\"https://colab.research.google.com/assets/colab-badge.svg\" alt=\"Open In Colab\"/></a>"
      ]
    },
    {
      "cell_type": "code",
      "metadata": {
        "id": "jLVB9wrBRb42",
        "colab_type": "code",
        "colab": {}
      },
      "source": [
        "import pandas as pd\n",
        "import numpy as np\n",
        "import os\n",
        "import datetime\n",
        "\n",
        "import tensorflow as tf\n",
        "from tensorflow.keras.models import Sequential\n",
        "from tensorflow.keras.layers import Conv2D, MaxPool2D, Dense, Flatten, Dropout\n",
        "from tensorflow.keras.utils import to_categorical\n",
        "\n",
        "import matplotlib.pyplot as plt\n",
        "from skimage import color, exposure\n",
        "\n",
        "from sklearn.metrics import accuracy_score\n",
        "\n",
        "\n",
        "%load_ext tensorboard\n"
      ],
      "execution_count": 0,
      "outputs": []
    },
    {
      "cell_type": "code",
      "metadata": {
        "id": "NIwl4aqCTprr",
        "colab_type": "code",
        "outputId": "f395bd8b-a123-4382-aa1e-f1ac1a636c35",
        "colab": {
          "base_uri": "https://localhost:8080/",
          "height": 34
        }
      },
      "source": [
        "cd '/content/drive/My Drive/Colab Notebooks/matrix/matrix_three/dw_matrix_road_sign'"
      ],
      "execution_count": 2,
      "outputs": [
        {
          "output_type": "stream",
          "text": [
            "/content/drive/My Drive/Colab Notebooks/matrix/matrix_three/dw_matrix_road_sign\n"
          ],
          "name": "stdout"
        }
      ]
    },
    {
      "cell_type": "code",
      "metadata": {
        "id": "93WYe6MLUArw",
        "colab_type": "code",
        "colab": {}
      },
      "source": [
        "train = pd.read_pickle('data/train.p')\n",
        "test = pd.read_pickle('data/test.p')\n",
        "\n",
        "X_train, y_train = train['features'], train['labels']\n",
        "X_test, y_test = test['features'], test['labels']"
      ],
      "execution_count": 0,
      "outputs": []
    },
    {
      "cell_type": "code",
      "metadata": {
        "id": "r87WrvepUtAf",
        "colab_type": "code",
        "outputId": "cc03d55b-37f8-4fbb-83c8-9035331bc3f2",
        "colab": {
          "base_uri": "https://localhost:8080/",
          "height": 34
        }
      },
      "source": [
        "y_train\n"
      ],
      "execution_count": 4,
      "outputs": [
        {
          "output_type": "execute_result",
          "data": {
            "text/plain": [
              "array([41, 41, 41, ..., 25, 25, 25], dtype=uint8)"
            ]
          },
          "metadata": {
            "tags": []
          },
          "execution_count": 4
        }
      ]
    },
    {
      "cell_type": "code",
      "metadata": {
        "id": "hzd-snY8Ux_a",
        "colab_type": "code",
        "colab": {}
      },
      "source": [
        "#X_train"
      ],
      "execution_count": 0,
      "outputs": []
    },
    {
      "cell_type": "code",
      "metadata": {
        "id": "41THmuF9UzWG",
        "colab_type": "code",
        "outputId": "e1fd54d1-25e8-41a0-ef63-e0caf64beb20",
        "colab": {
          "base_uri": "https://localhost:8080/",
          "height": 34
        }
      },
      "source": [
        "y_train"
      ],
      "execution_count": 6,
      "outputs": [
        {
          "output_type": "execute_result",
          "data": {
            "text/plain": [
              "array([41, 41, 41, ..., 25, 25, 25], dtype=uint8)"
            ]
          },
          "metadata": {
            "tags": []
          },
          "execution_count": 6
        }
      ]
    },
    {
      "cell_type": "code",
      "metadata": {
        "id": "6QMK1_1yU6EW",
        "colab_type": "code",
        "outputId": "859aab39-ef21-4f59-efe2-695daeecfda8",
        "colab": {
          "base_uri": "https://localhost:8080/",
          "height": 34
        }
      },
      "source": [
        "type(y_train)"
      ],
      "execution_count": 7,
      "outputs": [
        {
          "output_type": "execute_result",
          "data": {
            "text/plain": [
              "numpy.ndarray"
            ]
          },
          "metadata": {
            "tags": []
          },
          "execution_count": 7
        }
      ]
    },
    {
      "cell_type": "code",
      "metadata": {
        "id": "sZOpGoTlU8Ep",
        "colab_type": "code",
        "outputId": "85f8213c-6d73-44c5-e307-761c028e340e",
        "colab": {
          "base_uri": "https://localhost:8080/",
          "height": 34
        }
      },
      "source": [
        "len(np.unique(y_train))"
      ],
      "execution_count": 8,
      "outputs": [
        {
          "output_type": "execute_result",
          "data": {
            "text/plain": [
              "43"
            ]
          },
          "metadata": {
            "tags": []
          },
          "execution_count": 8
        }
      ]
    },
    {
      "cell_type": "code",
      "metadata": {
        "id": "aK2OsaCmU_2e",
        "colab_type": "code",
        "outputId": "3d41f611-a2eb-4a91-eee3-8d51ac8d9267",
        "colab": {
          "base_uri": "https://localhost:8080/",
          "height": 68
        }
      },
      "source": [
        "to_categorical(y_train)[0]"
      ],
      "execution_count": 9,
      "outputs": [
        {
          "output_type": "execute_result",
          "data": {
            "text/plain": [
              "array([0., 0., 0., 0., 0., 0., 0., 0., 0., 0., 0., 0., 0., 0., 0., 0., 0.,\n",
              "       0., 0., 0., 0., 0., 0., 0., 0., 0., 0., 0., 0., 0., 0., 0., 0., 0.,\n",
              "       0., 0., 0., 0., 0., 0., 0., 1., 0.], dtype=float32)"
            ]
          },
          "metadata": {
            "tags": []
          },
          "execution_count": 9
        }
      ]
    },
    {
      "cell_type": "code",
      "metadata": {
        "id": "I4ldCcR7VNpZ",
        "colab_type": "code",
        "outputId": "0d6b2cd9-d4d0-43b3-b0ab-9ef23fdf7569",
        "colab": {
          "base_uri": "https://localhost:8080/",
          "height": 68
        }
      },
      "source": [
        "np.unique(y_train)"
      ],
      "execution_count": 10,
      "outputs": [
        {
          "output_type": "execute_result",
          "data": {
            "text/plain": [
              "array([ 0,  1,  2,  3,  4,  5,  6,  7,  8,  9, 10, 11, 12, 13, 14, 15, 16,\n",
              "       17, 18, 19, 20, 21, 22, 23, 24, 25, 26, 27, 28, 29, 30, 31, 32, 33,\n",
              "       34, 35, 36, 37, 38, 39, 40, 41, 42], dtype=uint8)"
            ]
          },
          "metadata": {
            "tags": []
          },
          "execution_count": 10
        }
      ]
    },
    {
      "cell_type": "code",
      "metadata": {
        "id": "Q5Up_Wt8VUSq",
        "colab_type": "code",
        "outputId": "7960a4cd-00f2-4a89-dd02-cf2a70cf82a8",
        "colab": {
          "base_uri": "https://localhost:8080/",
          "height": 34
        }
      },
      "source": [
        "y_train.ndim"
      ],
      "execution_count": 11,
      "outputs": [
        {
          "output_type": "execute_result",
          "data": {
            "text/plain": [
              "1"
            ]
          },
          "metadata": {
            "tags": []
          },
          "execution_count": 11
        }
      ]
    },
    {
      "cell_type": "code",
      "metadata": {
        "id": "R343i2X-VbDc",
        "colab_type": "code",
        "colab": {}
      },
      "source": [
        "if y_train.ndim == 1: y_train = to_categorical(y_train)\n",
        "if y_test.ndim == 1: y_test = to_categorical(y_test)"
      ],
      "execution_count": 0,
      "outputs": []
    },
    {
      "cell_type": "code",
      "metadata": {
        "id": "yX9Ouz90V3mD",
        "colab_type": "code",
        "outputId": "5f8bb209-a863-430c-9f58-bc0963393452",
        "colab": {
          "base_uri": "https://localhost:8080/",
          "height": 34
        }
      },
      "source": [
        "y_train.shape"
      ],
      "execution_count": 13,
      "outputs": [
        {
          "output_type": "execute_result",
          "data": {
            "text/plain": [
              "(34799, 43)"
            ]
          },
          "metadata": {
            "tags": []
          },
          "execution_count": 13
        }
      ]
    },
    {
      "cell_type": "code",
      "metadata": {
        "id": "g09ZPIUlWFZE",
        "colab_type": "code",
        "outputId": "30c73eff-d75c-4cae-d626-4d9109919e97",
        "colab": {
          "base_uri": "https://localhost:8080/",
          "height": 34
        }
      },
      "source": [
        "y_test.shape"
      ],
      "execution_count": 14,
      "outputs": [
        {
          "output_type": "execute_result",
          "data": {
            "text/plain": [
              "(4410, 43)"
            ]
          },
          "metadata": {
            "tags": []
          },
          "execution_count": 14
        }
      ]
    },
    {
      "cell_type": "code",
      "metadata": {
        "id": "rLum6_OKWTta",
        "colab_type": "code",
        "outputId": "e40608ba-e552-4e66-d6fa-bd77cb8f9b7b",
        "colab": {
          "base_uri": "https://localhost:8080/",
          "height": 136
        }
      },
      "source": [
        "y_train"
      ],
      "execution_count": 15,
      "outputs": [
        {
          "output_type": "execute_result",
          "data": {
            "text/plain": [
              "array([[0., 0., 0., ..., 0., 1., 0.],\n",
              "       [0., 0., 0., ..., 0., 1., 0.],\n",
              "       [0., 0., 0., ..., 0., 1., 0.],\n",
              "       ...,\n",
              "       [0., 0., 0., ..., 0., 0., 0.],\n",
              "       [0., 0., 0., ..., 0., 0., 0.],\n",
              "       [0., 0., 0., ..., 0., 0., 0.]], dtype=float32)"
            ]
          },
          "metadata": {
            "tags": []
          },
          "execution_count": 15
        }
      ]
    },
    {
      "cell_type": "code",
      "metadata": {
        "id": "6XXwmyocWVrT",
        "colab_type": "code",
        "outputId": "1f38e789-59c7-4caf-f8d9-c86b2bd437fc",
        "colab": {
          "base_uri": "https://localhost:8080/",
          "height": 136
        }
      },
      "source": [
        "y_test"
      ],
      "execution_count": 16,
      "outputs": [
        {
          "output_type": "execute_result",
          "data": {
            "text/plain": [
              "array([[0., 0., 0., ..., 0., 1., 0.],\n",
              "       [0., 0., 0., ..., 0., 1., 0.],\n",
              "       [0., 0., 0., ..., 0., 1., 0.],\n",
              "       ...,\n",
              "       [0., 0., 0., ..., 0., 0., 0.],\n",
              "       [0., 0., 0., ..., 0., 0., 0.],\n",
              "       [0., 0., 0., ..., 0., 0., 0.]], dtype=float32)"
            ]
          },
          "metadata": {
            "tags": []
          },
          "execution_count": 16
        }
      ]
    },
    {
      "cell_type": "code",
      "metadata": {
        "id": "9I5fT_PxXP18",
        "colab_type": "code",
        "colab": {}
      },
      "source": [
        "input_shape = X_train.shape[1:]\n",
        "num_classes = y_train.shape[1]"
      ],
      "execution_count": 0,
      "outputs": []
    },
    {
      "cell_type": "code",
      "metadata": {
        "id": "W9BgIf4_WYLB",
        "colab_type": "code",
        "outputId": "cf0fba00-6447-4094-8760-262c74699b5f",
        "colab": {
          "base_uri": "https://localhost:8080/",
          "height": 51
        }
      },
      "source": [
        "model = Sequential([\n",
        "                    Conv2D(filters=64, kernel_size=(3,3), activation='relu', input_shape=input_shape),\n",
        "                    Flatten(),\n",
        "                    Dense(num_classes, activation='softmax'),\n",
        "                    ])\n",
        "\n",
        "#model.summary()\n",
        "model.compile(loss='categorical_crossentropy', optimizer='Adam', metrics=['accuracy'])\n",
        "model.fit(X_train, y_train)"
      ],
      "execution_count": 18,
      "outputs": [
        {
          "output_type": "stream",
          "text": [
            "1088/1088 [==============================] - 5s 5ms/step - loss: 8.1173 - accuracy: 0.7965\n"
          ],
          "name": "stdout"
        },
        {
          "output_type": "execute_result",
          "data": {
            "text/plain": [
              "<tensorflow.python.keras.callbacks.History at 0x7f5b1024a198>"
            ]
          },
          "metadata": {
            "tags": []
          },
          "execution_count": 18
        }
      ]
    },
    {
      "cell_type": "code",
      "metadata": {
        "id": "2Qo2lPDoX4Lw",
        "colab_type": "code",
        "outputId": "f0227297-0c57-4a6a-c7c6-f02b70b71993",
        "colab": {
          "base_uri": "https://localhost:8080/",
          "height": 255
        }
      },
      "source": [
        "model.summary()"
      ],
      "execution_count": 19,
      "outputs": [
        {
          "output_type": "stream",
          "text": [
            "Model: \"sequential\"\n",
            "_________________________________________________________________\n",
            "Layer (type)                 Output Shape              Param #   \n",
            "=================================================================\n",
            "conv2d (Conv2D)              (None, 30, 30, 64)        1792      \n",
            "_________________________________________________________________\n",
            "flatten (Flatten)            (None, 57600)             0         \n",
            "_________________________________________________________________\n",
            "dense (Dense)                (None, 43)                2476843   \n",
            "=================================================================\n",
            "Total params: 2,478,635\n",
            "Trainable params: 2,478,635\n",
            "Non-trainable params: 0\n",
            "_________________________________________________________________\n"
          ],
          "name": "stdout"
        }
      ]
    },
    {
      "cell_type": "code",
      "metadata": {
        "id": "JyDhsWF5YcjO",
        "colab_type": "code",
        "colab": {}
      },
      "source": [
        "def get_cnn_v1(input_shape, num_classes):\n",
        "  return Sequential([\n",
        "                    Conv2D(filters=64, kernel_size=(3,3), activation='relu', input_shape=input_shape),\n",
        "                    Flatten(),\n",
        "                    Dense(num_classes, activation='softmax'),\n",
        "                    ])"
      ],
      "execution_count": 0,
      "outputs": []
    },
    {
      "cell_type": "code",
      "metadata": {
        "id": "zTQmESQ9Z6eb",
        "colab_type": "code",
        "colab": {}
      },
      "source": [
        "def train_model(model, X_train, y_train, params_fit={}):\n",
        "  model.compile(loss='categorical_crossentropy', optimizer='Adam', metrics=['accuracy'])\n",
        "\n",
        "  logdir = os.path.join(\"logs\", datetime.datetime.now().strftime(\"%Y%m%d-%H%M%S\"))\n",
        "  tensorboard_callback = tf.keras.callbacks.TensorBoard(logdir, histogram_freq=1)\n",
        "\n",
        "  model.fit(X_train, \n",
        "            y_train,\n",
        "            batch_size=params_fit.get('batch_size', 128),\n",
        "            epochs=params_fit.get('epochs', 5),\n",
        "            verboses=params_fit.get('verbose', 1),\n",
        "            validation_data=params_fit.get('validation_data', (X_train, y_train)),\n",
        "            callbacks=[tensorboard_callback]\n",
        "            )\n",
        "  \n",
        "  return model"
      ],
      "execution_count": 0,
      "outputs": []
    },
    {
      "cell_type": "code",
      "metadata": {
        "id": "GF__P5sBQf9r",
        "colab_type": "code",
        "colab": {}
      },
      "source": [
        "df = pd.read_csv('data/signames.csv')\n",
        "labels_dict = df.to_dict()['b']"
      ],
      "execution_count": 0,
      "outputs": []
    },
    {
      "cell_type": "code",
      "metadata": {
        "id": "r0pgjPRPaN80",
        "colab_type": "code",
        "outputId": "1f9a9ba6-c7dd-430e-f0ff-963aca4f7638",
        "colab": {
          "base_uri": "https://localhost:8080/",
          "height": 187
        }
      },
      "source": [
        "model = get_cnn_v1(input_shape, num_classes)\n",
        "y_test_norm = np.argmax(y_test)\n",
        "model_trained = train_model(model, X_train, y_train)"
      ],
      "execution_count": 23,
      "outputs": [
        {
          "output_type": "stream",
          "text": [
            "Epoch 1/5\n",
            "272/272 [==============================] - 5s 18ms/step - loss: 43.7894 - accuracy: 0.7082 - val_loss: 0.2702 - val_accuracy: 0.9378\n",
            "Epoch 2/5\n",
            "272/272 [==============================] - 5s 17ms/step - loss: 0.2427 - accuracy: 0.9456 - val_loss: 0.1625 - val_accuracy: 0.9601\n",
            "Epoch 3/5\n",
            "272/272 [==============================] - 5s 17ms/step - loss: 0.1603 - accuracy: 0.9648 - val_loss: 0.1603 - val_accuracy: 0.9639\n",
            "Epoch 4/5\n",
            "272/272 [==============================] - 5s 17ms/step - loss: 0.1356 - accuracy: 0.9696 - val_loss: 0.1050 - val_accuracy: 0.9759\n",
            "Epoch 5/5\n",
            "272/272 [==============================] - 5s 17ms/step - loss: 0.1027 - accuracy: 0.9759 - val_loss: 0.0460 - val_accuracy: 0.9886\n"
          ],
          "name": "stdout"
        }
      ]
    },
    {
      "cell_type": "code",
      "metadata": {
        "id": "YmIP3WnoYP0z",
        "colab_type": "code",
        "outputId": "15c62f78-db81-429c-e944-c4267b1e23be",
        "colab": {
          "base_uri": "https://localhost:8080/",
          "height": 34
        }
      },
      "source": [
        "def predict(model_trained, X_test, y_test, scoring=accuracy_score):\n",
        "\n",
        "  y_test_norm = np.argmax(y_test, axis=1)\n",
        "\n",
        "  y_pred_prob = model_trained.predict(X_test)\n",
        "  y_pred = np.argmax(y_pred_prob, axis=1)\n",
        "\n",
        "  return scoring(y_test_norm, y_pred)\n",
        "\n",
        "predict(model_trained, X_test, y_test)\n"
      ],
      "execution_count": 24,
      "outputs": [
        {
          "output_type": "execute_result",
          "data": {
            "text/plain": [
              "0.8487528344671201"
            ]
          },
          "metadata": {
            "tags": []
          },
          "execution_count": 24
        }
      ]
    },
    {
      "cell_type": "code",
      "metadata": {
        "id": "oWOO_3VHtJDg",
        "colab_type": "code",
        "colab": {}
      },
      "source": [
        "def train_and_predict(model):\n",
        "  \n",
        "  model_trained = train_model(model, X_train, y_train)\n",
        "\n",
        "  return predict(model_trained, X_test, y_test)"
      ],
      "execution_count": 0,
      "outputs": []
    },
    {
      "cell_type": "code",
      "metadata": {
        "id": "-4NZvfqTmMF4",
        "colab_type": "code",
        "outputId": "06cade61-2c00-4638-f5d0-3cbbfb67499f",
        "colab": {
          "base_uri": "https://localhost:8080/",
          "height": 204
        }
      },
      "source": [
        "def get_cnn_v2(input_shape, num_classes):\n",
        "  return Sequential([\n",
        "                    Conv2D(filters=32, kernel_size=(3,3), activation='relu', input_shape=input_shape),\n",
        "                    MaxPool2D(),\n",
        "                    Dropout(0.3),\n",
        "                    \n",
        "                    Conv2D(filters=64, kernel_size=(3,3), activation='relu'),\n",
        "                    MaxPool2D(),\n",
        "                    Dropout(0.3),\n",
        "                    \n",
        "                    Flatten(),\n",
        "                    \n",
        "                    Dense(1024, activation=\"relu\"),\n",
        "                    Dropout(0.3),\n",
        "\n",
        "                    Dense(num_classes, activation='softmax'),\n",
        "                    ])\n",
        "\n",
        "\n",
        "\n",
        "\n",
        "train_and_predict( get_cnn_v2(input_shape, num_classes) )"
      ],
      "execution_count": 26,
      "outputs": [
        {
          "output_type": "stream",
          "text": [
            "Epoch 1/5\n",
            "272/272 [==============================] - 4s 14ms/step - loss: 6.2491 - accuracy: 0.3442 - val_loss: 1.0000 - val_accuracy: 0.7539\n",
            "Epoch 2/5\n",
            "272/272 [==============================] - 4s 13ms/step - loss: 1.0215 - accuracy: 0.6957 - val_loss: 0.3620 - val_accuracy: 0.9172\n",
            "Epoch 3/5\n",
            "272/272 [==============================] - 4s 14ms/step - loss: 0.5633 - accuracy: 0.8295 - val_loss: 0.1729 - val_accuracy: 0.9600\n",
            "Epoch 4/5\n",
            "272/272 [==============================] - 4s 14ms/step - loss: 0.3881 - accuracy: 0.8832 - val_loss: 0.1039 - val_accuracy: 0.9783\n",
            "Epoch 5/5\n",
            "272/272 [==============================] - 4s 14ms/step - loss: 0.2842 - accuracy: 0.9158 - val_loss: 0.0666 - val_accuracy: 0.9887\n"
          ],
          "name": "stdout"
        },
        {
          "output_type": "execute_result",
          "data": {
            "text/plain": [
              "0.9120181405895692"
            ]
          },
          "metadata": {
            "tags": []
          },
          "execution_count": 26
        }
      ]
    },
    {
      "cell_type": "code",
      "metadata": {
        "id": "KOofN5LPvcDy",
        "colab_type": "code",
        "outputId": "8e610198-3f20-4c7d-bcaf-e12e1861414d",
        "colab": {
          "base_uri": "https://localhost:8080/",
          "height": 204
        }
      },
      "source": [
        "def get_cnn_v3(input_shape, num_classes):\n",
        "  return Sequential([\n",
        "                    Conv2D(filters=32, kernel_size=(3,3), activation='relu', input_shape=input_shape),\n",
        "                    Conv2D(filters=32, kernel_size=(3,3), activation='relu'),\n",
        "                    MaxPool2D(),\n",
        "                    Dropout(0.3),\n",
        "                    \n",
        "                    Conv2D(filters=64, kernel_size=(3,3), activation='relu'),\n",
        "                    Conv2D(filters=64, kernel_size=(3,3), activation='relu'), \n",
        "                    MaxPool2D(),\n",
        "                    Dropout(0.3),\n",
        "                    \n",
        "                    Flatten(),\n",
        "                    \n",
        "                    Dense(1024, activation=\"relu\"),\n",
        "                    Dropout(0.3),\n",
        "\n",
        "                    Dense(num_classes, activation='softmax'),\n",
        "                    ])\n",
        "\n",
        "\n",
        "\n",
        "\n",
        "train_and_predict( get_cnn_v3(input_shape, num_classes) )"
      ],
      "execution_count": 27,
      "outputs": [
        {
          "output_type": "stream",
          "text": [
            "Epoch 1/5\n",
            "272/272 [==============================] - 6s 20ms/step - loss: 2.3052 - accuracy: 0.5390 - val_loss: 0.2716 - val_accuracy: 0.9465\n",
            "Epoch 2/5\n",
            "272/272 [==============================] - 5s 19ms/step - loss: 0.4398 - accuracy: 0.8731 - val_loss: 0.0720 - val_accuracy: 0.9854\n",
            "Epoch 3/5\n",
            "272/272 [==============================] - 5s 19ms/step - loss: 0.2415 - accuracy: 0.9307 - val_loss: 0.0324 - val_accuracy: 0.9925\n",
            "Epoch 4/5\n",
            "272/272 [==============================] - 5s 19ms/step - loss: 0.1694 - accuracy: 0.9517 - val_loss: 0.0242 - val_accuracy: 0.9948\n",
            "Epoch 5/5\n",
            "272/272 [==============================] - 5s 19ms/step - loss: 0.1236 - accuracy: 0.9633 - val_loss: 0.0173 - val_accuracy: 0.9959\n"
          ],
          "name": "stdout"
        },
        {
          "output_type": "execute_result",
          "data": {
            "text/plain": [
              "0.9741496598639455"
            ]
          },
          "metadata": {
            "tags": []
          },
          "execution_count": 27
        }
      ]
    },
    {
      "cell_type": "code",
      "metadata": {
        "id": "DiJ7dQ7L4J5Z",
        "colab_type": "code",
        "colab": {
          "base_uri": "https://localhost:8080/",
          "height": 204
        },
        "outputId": "dc063259-2826-4223-b8df-68cd8d8887f4"
      },
      "source": [
        "def get_cnn_v4(input_shape, num_classes):\n",
        "  return Sequential([\n",
        "                    Conv2D(filters=32, kernel_size=(3,3), activation='relu', input_shape=input_shape),\n",
        "                    Conv2D(filters=32, kernel_size=(3,3), activation='relu', padding=\"same\"),\n",
        "                    MaxPool2D(),\n",
        "                    Dropout(0.3),\n",
        "                    \n",
        "                    Conv2D(filters=64, kernel_size=(3,3), activation='relu', padding=\"same\"),\n",
        "                    Conv2D(filters=64, kernel_size=(3,3), activation='relu'), \n",
        "                    MaxPool2D(),\n",
        "                    Dropout(0.3),\n",
        "                     \n",
        "                    Conv2D(filters=64, kernel_size=(3,3), activation='relu', padding=\"same\"),\n",
        "                    Conv2D(filters=64, kernel_size=(3,3), activation='relu'), \n",
        "                    MaxPool2D(),\n",
        "                    Dropout(0.3),\n",
        "                    \n",
        "                    Flatten(),\n",
        "                    \n",
        "                    Dense(1024, activation=\"relu\"),\n",
        "                    Dropout(0.3),\n",
        "\n",
        "                    Dense(num_classes, activation='softmax'),\n",
        "                    ])\n",
        "\n",
        "\n",
        "\n",
        "\n",
        "train_and_predict( get_cnn_v4(input_shape, num_classes) )"
      ],
      "execution_count": 28,
      "outputs": [
        {
          "output_type": "stream",
          "text": [
            "Epoch 1/5\n",
            "272/272 [==============================] - 6s 23ms/step - loss: 2.7585 - accuracy: 0.2733 - val_loss: 1.0079 - val_accuracy: 0.6915\n",
            "Epoch 2/5\n",
            "272/272 [==============================] - 6s 21ms/step - loss: 0.8055 - accuracy: 0.7423 - val_loss: 0.2003 - val_accuracy: 0.9480\n",
            "Epoch 3/5\n",
            "272/272 [==============================] - 6s 21ms/step - loss: 0.3405 - accuracy: 0.8961 - val_loss: 0.0648 - val_accuracy: 0.9819\n",
            "Epoch 4/5\n",
            "272/272 [==============================] - 6s 21ms/step - loss: 0.1954 - accuracy: 0.9419 - val_loss: 0.0469 - val_accuracy: 0.9870\n",
            "Epoch 5/5\n",
            "272/272 [==============================] - 6s 21ms/step - loss: 0.1586 - accuracy: 0.9528 - val_loss: 0.0277 - val_accuracy: 0.9932\n"
          ],
          "name": "stdout"
        },
        {
          "output_type": "execute_result",
          "data": {
            "text/plain": [
              "0.9734693877551021"
            ]
          },
          "metadata": {
            "tags": []
          },
          "execution_count": 28
        }
      ]
    },
    {
      "cell_type": "code",
      "metadata": {
        "id": "udnk31U05LZW",
        "colab_type": "code",
        "colab": {
          "base_uri": "https://localhost:8080/",
          "height": 204
        },
        "outputId": "5d57f87f-41e0-4d21-b23f-458ecfa797d0"
      },
      "source": [
        "def get_cnn_v5(input_shape, num_classes):\n",
        "  return Sequential([\n",
        "                    Conv2D(filters=32, kernel_size=(3,3), activation='relu', input_shape=input_shape),\n",
        "                    Conv2D(filters=32, kernel_size=(3,3), activation='relu', padding=\"same\"),\n",
        "                    MaxPool2D(),\n",
        "                    Dropout(0.3),\n",
        "                    \n",
        "                    Conv2D(filters=64, kernel_size=(3,3), activation='relu', padding=\"same\"),\n",
        "                    Conv2D(filters=64, kernel_size=(3,3), activation='relu'), \n",
        "                    MaxPool2D(),\n",
        "                    Dropout(0.3),\n",
        "                     \n",
        "                    Conv2D(filters=64, kernel_size=(3,3), activation='relu', padding=\"same\"),\n",
        "                    Conv2D(filters=64, kernel_size=(3,3), activation='relu'), \n",
        "                    MaxPool2D(),\n",
        "                    Dropout(0.3),\n",
        "                    \n",
        "                    Flatten(),\n",
        "                    \n",
        "                    Dense(1024, activation=\"relu\"),\n",
        "                    Dropout(0.3),\n",
        "\n",
        "                    Dense(1024, activation=\"relu\"),\n",
        "                    Dropout(0.3),\n",
        "\n",
        "                    Dense(num_classes, activation='softmax'),\n",
        "                    ])\n",
        "\n",
        "\n",
        "\n",
        "\n",
        "train_and_predict( get_cnn_v5(input_shape, num_classes) )"
      ],
      "execution_count": 29,
      "outputs": [
        {
          "output_type": "stream",
          "text": [
            "Epoch 1/5\n",
            "272/272 [==============================] - 6s 23ms/step - loss: 2.6881 - accuracy: 0.2743 - val_loss: 1.0651 - val_accuracy: 0.6491\n",
            "Epoch 2/5\n",
            "272/272 [==============================] - 6s 22ms/step - loss: 0.8681 - accuracy: 0.7186 - val_loss: 0.3247 - val_accuracy: 0.8859\n",
            "Epoch 3/5\n",
            "272/272 [==============================] - 6s 23ms/step - loss: 0.4157 - accuracy: 0.8664 - val_loss: 0.0987 - val_accuracy: 0.9722\n",
            "Epoch 4/5\n",
            "272/272 [==============================] - 6s 22ms/step - loss: 0.2522 - accuracy: 0.9231 - val_loss: 0.0590 - val_accuracy: 0.9837\n",
            "Epoch 5/5\n",
            "272/272 [==============================] - 6s 23ms/step - loss: 0.1806 - accuracy: 0.9462 - val_loss: 0.0295 - val_accuracy: 0.9914\n"
          ],
          "name": "stdout"
        },
        {
          "output_type": "execute_result",
          "data": {
            "text/plain": [
              "0.9682539682539683"
            ]
          },
          "metadata": {
            "tags": []
          },
          "execution_count": 29
        }
      ]
    },
    {
      "cell_type": "code",
      "metadata": {
        "id": "rZQ45Ekt5rH3",
        "colab_type": "code",
        "colab": {}
      },
      "source": [
        "X_train_gray = color.rgb2gray(X_train).reshape(-1, 32, 32, 1)\n",
        "X_test_gray = color.rgb2gray(X_test).reshape(-1, 32, 32, 1)"
      ],
      "execution_count": 0,
      "outputs": []
    },
    {
      "cell_type": "code",
      "metadata": {
        "id": "emADvCFI9A6L",
        "colab_type": "code",
        "colab": {}
      },
      "source": [
        "#X_train_gray.reshape(-1, 32, 32, 1)"
      ],
      "execution_count": 0,
      "outputs": []
    },
    {
      "cell_type": "code",
      "metadata": {
        "id": "GY2JetXr6wzF",
        "colab_type": "code",
        "colab": {
          "base_uri": "https://localhost:8080/",
          "height": 204
        },
        "outputId": "1b69b29e-76b4-48c4-b48b-2a3373a36d56"
      },
      "source": [
        "model = get_cnn_v5((32, 32, 1), num_classes)\n",
        "model_trained = train_model(model, X_train_gray, y_train, params_fit={})\n",
        "predict(model_trained, X_test_gray, y_test)"
      ],
      "execution_count": 40,
      "outputs": [
        {
          "output_type": "stream",
          "text": [
            "Epoch 1/5\n",
            "272/272 [==============================] - 6s 24ms/step - loss: 2.3726 - accuracy: 0.3223 - val_loss: 0.6478 - val_accuracy: 0.7860\n",
            "Epoch 2/5\n",
            "272/272 [==============================] - 6s 22ms/step - loss: 0.5442 - accuracy: 0.8225 - val_loss: 0.1334 - val_accuracy: 0.9648\n",
            "Epoch 3/5\n",
            "272/272 [==============================] - 6s 22ms/step - loss: 0.2550 - accuracy: 0.9186 - val_loss: 0.0609 - val_accuracy: 0.9847\n",
            "Epoch 4/5\n",
            "272/272 [==============================] - 6s 22ms/step - loss: 0.1717 - accuracy: 0.9463 - val_loss: 0.0349 - val_accuracy: 0.9910\n",
            "Epoch 5/5\n",
            "272/272 [==============================] - 6s 22ms/step - loss: 0.1208 - accuracy: 0.9624 - val_loss: 0.0267 - val_accuracy: 0.9921\n"
          ],
          "name": "stdout"
        },
        {
          "output_type": "execute_result",
          "data": {
            "text/plain": [
              "0.9705215419501134"
            ]
          },
          "metadata": {
            "tags": []
          },
          "execution_count": 40
        }
      ]
    },
    {
      "cell_type": "code",
      "metadata": {
        "id": "ecmSpU8X5q94",
        "colab_type": "code",
        "colab": {
          "base_uri": "https://localhost:8080/",
          "height": 283
        },
        "outputId": "c8ec5165-f491-4f16-bf78-a59de13a497e"
      },
      "source": [
        "plt.imshow(color.rgb2gray(X_train[0]), cmap=plt.get_cmap('gray'))"
      ],
      "execution_count": 41,
      "outputs": [
        {
          "output_type": "execute_result",
          "data": {
            "text/plain": [
              "<matplotlib.image.AxesImage at 0x7f5af0317780>"
            ]
          },
          "metadata": {
            "tags": []
          },
          "execution_count": 41
        },
        {
          "output_type": "display_data",
          "data": {
            "image/png": "[encoded data removed]",
            "text/plain": [
              "<Figure size 432x288 with 1 Axes>"
            ]
          },
          "metadata": {
            "tags": []
          }
        }
      ]
    },
    {
      "cell_type": "code",
      "metadata": {
        "id": "aSlI8IW45q0s",
        "colab_type": "code",
        "colab": {}
      },
      "source": [
        ""
      ],
      "execution_count": 0,
      "outputs": []
    },
    {
      "cell_type": "code",
      "metadata": {
        "id": "y9kegnFk5qoy",
        "colab_type": "code",
        "colab": {}
      },
      "source": [
        ""
      ],
      "execution_count": 0,
      "outputs": []
    },
    {
      "cell_type": "code",
      "metadata": {
        "id": "2jNuhbhyiUDT",
        "colab_type": "code",
        "colab": {}
      },
      "source": [
        "labels_dict[1]"
      ],
      "execution_count": 0,
      "outputs": []
    },
    {
      "cell_type": "code",
      "metadata": {
        "id": "PTt4GTR0BnUa",
        "colab_type": "code",
        "colab": {}
      },
      "source": [
        "plt.imshow(X_test[400])"
      ],
      "execution_count": 0,
      "outputs": []
    },
    {
      "cell_type": "code",
      "metadata": {
        "id": "vzSanQw6Czsv",
        "colab_type": "code",
        "colab": {}
      },
      "source": [
        "df = pd.read_csv('data/signames.csv')\n",
        "labels_dict = df.to_dict()['b']"
      ],
      "execution_count": 0,
      "outputs": []
    },
    {
      "cell_type": "code",
      "metadata": {
        "id": "JvaY3Fgtad6E",
        "colab_type": "code",
        "colab": {}
      },
      "source": [
        "%tensorboard --logdir logs"
      ],
      "execution_count": 0,
      "outputs": []
    },
    {
      "cell_type": "code",
      "metadata": {
        "id": "hGMTHrTx7iv4",
        "colab_type": "code",
        "colab": {}
      },
      "source": [
        "def get_cnn_v2(input_shape, num_classes):\n",
        "  return Sequential([\n",
        "                    Conv2D(filters=32, kernel_size=(3,3), activation='relu', input_shape=input_shape),\n",
        "                    MaxPool2D(),\n",
        "                    Dropout(0.5),\n",
        "                    \n",
        "                    Conv2D(filters=64, kernel_size=(3,3), activation='relu'),\n",
        "                    MaxPool2D(),\n",
        "                    Dropout(0.3),\n",
        "                    \n",
        "                    \n",
        "                    Flatten(),\n",
        "                    Dense(1024, activation='relu'),\n",
        "                    Dropout(0.5),\n",
        "\n",
        "                    Dense(num_classes, activation='softmax'),\n",
        "                    ])\n",
        "\n",
        "\n",
        "model = get_cnn_v2(input_shape, num_classes)\n",
        "params_fit = {\n",
        "    'epochs' : 25\n",
        "}\n",
        "logdir = train_model(model, X_train, y_train, params_fit)\n"
      ],
      "execution_count": 0,
      "outputs": []
    },
    {
      "cell_type": "code",
      "metadata": {
        "id": "UEcbWxDr-KJl",
        "colab_type": "code",
        "colab": {}
      },
      "source": [
        "%tensorboard --logdir logs"
      ],
      "execution_count": 0,
      "outputs": []
    },
    {
      "cell_type": "code",
      "metadata": {
        "id": "joIuCZHt-fRW",
        "colab_type": "code",
        "colab": {}
      },
      "source": [
        ""
      ],
      "execution_count": 0,
      "outputs": []
    }
  ]
}